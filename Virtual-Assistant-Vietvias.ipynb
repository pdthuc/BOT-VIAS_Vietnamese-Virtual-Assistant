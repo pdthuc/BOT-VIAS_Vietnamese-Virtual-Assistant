{
 "cells": [
  {
   "cell_type": "markdown",
   "source": [
    "# 1. Import các thư viện cần thiết"
   ],
   "metadata": {}
  },
  {
   "cell_type": "code",
   "execution_count": 40,
   "source": [
    "import os\r\n",
    "from playsound import playsound\r\n",
    "import speech_recognition as sr\r\n",
    "import time\r\n",
    "import sys\r\n",
    "import ctypes\r\n",
    "import wikipedia\r\n",
    "import datetime\r\n",
    "import json\r\n",
    "import re\r\n",
    "import webbrowser\r\n",
    "import smtplib\r\n",
    "import requests\r\n",
    "import urllib\r\n",
    "import urllib.request as urllib2\r\n",
    "from selenium import webdriver\r\n",
    "from selenium.webdriver.common.keys import Keys\r\n",
    "from webdriver_manager.chrome import ChromeDriverManager\r\n",
    "from time import strftime\r\n",
    "from gtts import gTTS\r\n",
    "from youtube_search import YoutubeSearch\r\n",
    "\r\n",
    "import nltk\r\n",
    "from nltk.stem.lancaster import LancasterStemmer\r\n",
    "stemmer = LancasterStemmer()\r\n",
    "\r\n",
    "import numpy\r\n",
    "import tflearn\r\n",
    "import tensorflow\r\n",
    "from tensorflow.python.framework import ops\r\n",
    "ops.reset_default_graph()\r\n",
    "import random\r\n",
    "import pickle"
   ],
   "outputs": [],
   "metadata": {}
  },
  {
   "cell_type": "markdown",
   "source": [
    "# 2. Khai báo biến mặc định"
   ],
   "metadata": {}
  },
  {
   "cell_type": "code",
   "execution_count": 41,
   "source": [
    "wikipedia.set_lang('vi')\r\n",
    "language = 'vi'\r\n",
    "path = ChromeDriverManager().install()"
   ],
   "outputs": [
    {
     "output_type": "stream",
     "name": "stderr",
     "text": [
      "\n",
      "\n",
      "====== WebDriver manager ======\n",
      "Current google-chrome version is 92.0.4515\n",
      "Get LATEST driver version for 92.0.4515\n",
      "Driver [C:\\Users\\phamd\\.wdm\\drivers\\chromedriver\\win32\\92.0.4515.43\\chromedriver.exe] found in cache\n"
     ]
    }
   ],
   "metadata": {}
  },
  {
   "cell_type": "markdown",
   "source": [
    "# 3. Chức năng chuyển văn bản thành âm thanh\r\n",
    "\r\n",
    "  -  Dùng `gTSS (google Text To Speech)` chuyển văn bản thành âm thanh theo tiếng Việt và lưu lại dưới dạng file **sound.mp3**\r\n",
    "  -  Sau đó dùng hàm `playsound.playsound()` để đọc file **sound.mp3** trên máy tính\r\n",
    "  -  Xóa file **sound.mp3** sau khi đọc xong để tránh lỗi trùng lắp file khi đọc nhiều văn bản"
   ],
   "metadata": {}
  },
  {
   "cell_type": "code",
   "execution_count": 42,
   "source": [
    "def speak(text):\r\n",
    "    print(\"Vietvias: {}\".format(text))\r\n",
    "    tts = gTTS(text=text, lang='vi', slow=False)\r\n",
    "    date_string = datetime.datetime.now().strftime(\"%d%m%Y%H%M%S\")\r\n",
    "    filename = \"voice\"+date_string+\".mp3\"\r\n",
    "    tts.save(filename)\r\n",
    "    playsound(filename) \r\n",
    "    os.remove(filename)\r\n",
    "\r\n",
    "def speak_other_language(text, otherLanguage):\r\n",
    "    print(\"Vietvias: {}\".format(text))\r\n",
    "    tts = gTTS(text=text, lang = otherLanguage, slow=False)\r\n",
    "    tts.save(\"sound.wav\")\r\n",
    "    playsound(\"sound.wav\")\r\n",
    "    os.remove(\"sound.wav\")"
   ],
   "outputs": [],
   "metadata": {}
  },
  {
   "cell_type": "markdown",
   "source": [
    "# 4. Chức năng chuyển âm thanh thành văn bản\r\n",
    "   Trong chức năng này, dùng 2 hàm là `get_audio()`, `stop()` và `get_text()`.\r\n",
    "   \r\n",
    "   \r\n",
    "### Trong hàm `get_audio()`\r\n",
    " -  Dùng thư viện speech_recognition có chức năng nhân diện giọng nói để chuyển âm thanh thành văn bản.\r\n",
    " -  Âm thanh được đọc vào sau đó được xử lý qua hàm `listen()` và lưu vào biến **audio**.\r\n",
    " -  Âm thanh sẽ được nhận dạng ở tiếng Việt bằng hàm `recognize_google()` và lưu kết quả vào biến **text**\r\n",
    " - Nếu **audio** không lỗi tức `recognize_google()` có thể nhận dạng được thì hàm sẽ trả về **text**. Ngược lại, nếu lỗi thì sẽ trả về **0**.\r\n",
    " \r\n",
    "  ### Trong hàm `stop()`\r\n",
    "   Đọc đoạn text \"Tạm biệt\" bằng cách dùng hàm `speak()` ở trên.\r\n",
    "   \r\n",
    "  ### Trong hàm `get_text()`\r\n",
    " - Máy tính sẽ nhận dạng âm thanh của người đọc tối đa 3 lần (bằng cách dùng for 3 lần), nếu text khác **0** thì `get_text()` trả vè `text.lower()`. \r\n",
    " - Ngược lại text = 0 thì trả về hàm `stop()` và `get_text()` trả về 0\r\n",
    " - `time.sleep(3)`: tạm dừng 3s tránh máy đọc các đoạn văn bản bị khớp nhau. \r\n"
   ],
   "metadata": {}
  },
  {
   "cell_type": "code",
   "execution_count": 43,
   "source": [
    "def get_audio():\r\n",
    "    r = sr.Recognizer()\r\n",
    "    with sr.Microphone() as source:\r\n",
    "        print(\"Tôi: \", end='')\r\n",
    "        audio = r.record(source, duration=5)\r\n",
    "        try:\r\n",
    "            text = r.recognize_google(audio, language=\"vi-VN\")\r\n",
    "            print(text)\r\n",
    "            return text\r\n",
    "        except:\r\n",
    "            print(\"...\")\r\n",
    "            return 0\r\n",
    "        \r\n",
    "def stop():\r\n",
    "    speak(\"Tạm biệt\")\r\n",
    "    \r\n",
    "def get_text():\r\n",
    "    for i in range(3):\r\n",
    "        text = get_audio()\r\n",
    "        if text:\r\n",
    "            return text.lower()\r\n",
    "        elif i < 2:\r\n",
    "            speak(\"Vias không nghe rõ. Bạn nói lại được không!\")\r\n",
    "    time.sleep(3)\r\n",
    "    stop()\r\n",
    "    return 0"
   ],
   "outputs": [],
   "metadata": {}
  },
  {
   "cell_type": "markdown",
   "source": [
    "# 5. Chức năng hiển thị thời gian\n",
    "- Dùng thư viện **`datetime`**, lưu vào biến **now**\n",
    "- Nếu trong biến **text** đầu vào có từ `\"giờ\"` thì sẽ đọc thời gian hiện tại trong ngày\n",
    "- Nếu trong biến **text** đầu vào có từ `\"ngày\"` thì sẽ đọc thời điểm hiện tại trong năm"
   ],
   "metadata": {}
  },
  {
   "cell_type": "code",
   "execution_count": 44,
   "source": [
    "def get_time(text):\r\n",
    "    now = datetime.datetime.now()\r\n",
    "    if \"giờ\" in text:\r\n",
    "        speak('Bây giờ là %d giờ %d phút' % (now.hour, now.minute))\r\n",
    "    elif \"ngày\" in text:\r\n",
    "        speak(\"Hôm nay là ngày %d tháng %d năm %d\" %\r\n",
    "              (now.day, now.month, now.year))\r\n",
    "    else:\r\n",
    "        speak(\"Vias chưa hiểu ý của bạn. Bạn nói lại được không?\")"
   ],
   "outputs": [],
   "metadata": {}
  },
  {
   "cell_type": "markdown",
   "source": [
    "# 6. Chức năng mở ứng dụng hệ thống, website và chức năng tìm kiếm từ khóa trên Google\n",
    "### Hàm `open_application()`\n",
    "- Dùng hàm `os.startfile()` để mở các file ứng dụng từ hệ thống\n",
    "\n",
    "### Hàm `open_website()`\n",
    "- Dùng hàm `re.search()` để tách \"domain\" sau từ \"mở\" trong biến **text** và ghép nó với phần tiền tố \"https://www.\" để tạo thành **url** của web.\n",
    "- Tiếp theo, dùng `webbroser.open(url)` để mở trang web theo url\n",
    "- Nếu domain được tìm thấy thì thực hiện mở website bằng `open_website()` và trả về **True**, ngược lại thì không thực hiện gì cả và trả về **False**.\n",
    "\n",
    "### Hàm `open_google_and_search()`\n",
    "- Tách từ khóa sau từ \"kiếm\" trong **text** bằng `split()` rồi lưu vào **search_for**\n",
    "- Gọi hàm `webdriver.Chrome(path)` để mở Google Chrome \n",
    "- Dùng hàm `driver.find_element_by_path()` để lấy thẻ **query** (viết tắt là q) rồi lưu vào biến que\n",
    "- Biến **que** thực hiện tiềm kiếm từ khóa **search_for** và trả trên Google Search. "
   ],
   "metadata": {}
  },
  {
   "cell_type": "code",
   "execution_count": 45,
   "source": [
    "def open_application(text):\r\n",
    "    if \"google\" in text:\r\n",
    "        speak(\"Mở Google Chrome\")\r\n",
    "        os.startfile('C:\\Program Files (x86)\\Google\\Chrome\\Application\\chrome.exe')\r\n",
    "    elif \"word\" in text:\r\n",
    "        speak(\"Mở Microsoft Word\")\r\n",
    "        os.startfile('C:\\Program Files\\Microsoft Office\\\\root\\Office16\\\\WINWORD.EXE')\r\n",
    "    elif \"excel\" in text:\r\n",
    "        speak(\"Mở Microsoft Excel\")\r\n",
    "        os.startfile('C:\\Program Files\\Microsoft Office\\\\root\\Office16\\EXCEL.EXE')\r\n",
    "    else:\r\n",
    "        speak(\"Ứng dụng chưa được cài đặt. Bạn hãy thử lại!\")\r\n",
    "        \r\n",
    "def open_website(text):\r\n",
    "    reg_ex = re.search('mở (.+)', text)\r\n",
    "    if reg_ex:\r\n",
    "        domain = reg_ex.group(1)\r\n",
    "        url = 'https://www.' + domain\r\n",
    "        webbrowser.open(url)\r\n",
    "        speak(\"Trang web bạn yêu cầu đã được mở.\")\r\n",
    "        return True\r\n",
    "    else:\r\n",
    "        return False\r\n",
    "    \r\n",
    "def open_google_and_search(text):\r\n",
    "    search_for = text.split(\"kiếm\", 1)[1]\r\n",
    "    speak('Okay!')\r\n",
    "    driver = webdriver.Chrome(path)\r\n",
    "    driver.get(\"http://www.google.com\")\r\n",
    "    que = driver.find_element_by_xpath(\"//input[@name='q']\")\r\n",
    "    que.send_keys(str(search_for))\r\n",
    "    que.send_keys(Keys.RETURN)"
   ],
   "outputs": [],
   "metadata": {}
  },
  {
   "cell_type": "markdown",
   "source": [
    "# 7. Chức năng gửi Email (chưa hoàn thiện)\r\n",
    "- Sử dụng thư viện **`smtplib`** để thực hiện gửi mail bằng stmp.\r\n",
    "- SMTP - Simple Mail Transfer Protocol: Giao thức truyền tải thư tín đơn giản\r\n",
    "- Lấy tên người nhận bằng hàm `get_text()`, lưu vào biến **recipient**\r\n",
    "    vd: tìm thấy tên \"thục\" trong tên người cần gửi thì thực hiện gửi Email.\r\n",
    "- Gọi `get_text()` để lấy nội dung cần gửi rồi lưu vào biến **content**\r\n",
    "- Tiếp tục mở đường truyền gửi Email băng `stmp` rồi đăng nhập tài khoản Gmail của mình\r\n",
    "- Kết nối thành công, sẽ gửi email từ địa chỉ đã đăng nhập đến địa chỉ người nhận (dinhthucf12@gmail.com) với nội dung **content** rồi đóng đường truyền"
   ],
   "metadata": {}
  },
  {
   "cell_type": "code",
   "execution_count": 46,
   "source": [
    "def send_email(text):\r\n",
    "    speak('Bạn gửi email cho ai nhỉ')\r\n",
    "    recipient = get_text()\r\n",
    "    if 'thục' in recipient:\r\n",
    "        speak('Nội dung bạn muốn gửi là gì')\r\n",
    "        content = get_text()\r\n",
    "        mail = smtplib.SMTP('smtp.gmail.com', 587)\r\n",
    "        mail.ehlo()\r\n",
    "        mail.starttls()\r\n",
    "        mail.login('phamdinhthuc020100@gmail.com', 'dinhthuc123')\r\n",
    "        mail.sendmail('phamdinhthuc020100@gmail.com',\r\n",
    "                      'dinhthucf12@gmail.com', content.encode('utf-8'))\r\n",
    "        mail.close()\r\n",
    "        speak('Email của bạn vùa được gửi. Bạn check lại email nhé.')\r\n",
    "    else:\r\n",
    "        speak('Vias không hiểu bạn muốn gửi email cho ai. Bạn nói lại được không?')"
   ],
   "outputs": [],
   "metadata": {}
  },
  {
   "cell_type": "markdown",
   "source": [
    "# 8. Chức năng xem dự báo thời tiết\r\n",
    "- Dùng **Open WeatherMap** tại trang web `openweathermap.org`\r\n",
    "- Dùng biến ow_url để lưu đường dẫn đến api của trang web\r\n",
    "- Gọi get_text() để lấy thông tin thành phố cần xem thông tin thời tiết lưu vào biến **city**. Nếu không nghe được tên thì sẽ bỏ qua\r\n",
    "- Kết nối với api của trang web (cần đăng ký tài khoản để lấy api_key)\r\n",
    "- Biến **call_url** sẽ lưu đường dẫn đầy đủ để truy vấn bao gồm thông tin tên thành phố **city**\r\n",
    "- Gọi `requests.get(call_url)` lấy thông tin truy vấn, lưu vào **response**\r\n",
    "- `response.json()` sẽ chuyển dữ liệu về json rồi lưu vào **data**\r\n",
    "- Nếu data[\"cod\"] không trả về 404 tức requests không lỗi, thực hiện chức năng\r\n",
    "- Từ **data** lấy các thông tin: **temperature**, **pressure**, **humidity**\r\n",
    "- Lưu các kết quả vào biến **content** và đọc kết quả\r\n",
    "- time.sleep(20): tạm dừng 20s để đọc **content**\r\n"
   ],
   "metadata": {}
  },
  {
   "cell_type": "code",
   "execution_count": 47,
   "source": [
    "def current_weather():\r\n",
    "    speak(\"Bạn muốn xem thời tiết ở đâu?\")\r\n",
    "    ow_url = \"http://api.openweathermap.org/data/2.5/weather?\"\r\n",
    "    city = get_text()\r\n",
    "    if not city:\r\n",
    "        pass\r\n",
    "    api_key = \"fe8d8c65cf345889139d8e545f57819a\"\r\n",
    "    call_url = ow_url + \"appid=\" + api_key + \"&q=\" + city + \"&units=metric\"\r\n",
    "    response = requests.get(call_url)\r\n",
    "    data = response.json()\r\n",
    "    if data[\"cod\"] != \"404\":\r\n",
    "        city_res = data[\"main\"]\r\n",
    "        current_temperature = city_res[\"temp\"]\r\n",
    "        current_pressure = city_res[\"pressure\"]\r\n",
    "        current_humidity = city_res[\"humidity\"]\r\n",
    "        suntime = data[\"sys\"]\r\n",
    "        sunrise = datetime.datetime.fromtimestamp(suntime[\"sunrise\"])\r\n",
    "        sunset = datetime.datetime.fromtimestamp(suntime[\"sunset\"])\r\n",
    "        wthr = data[\"weather\"]\r\n",
    "        weather_description = wthr[0][\"description\"]\r\n",
    "        now = datetime.datetime.now()\r\n",
    "        content = \"\"\"\r\n",
    "        Hôm nay là ngày {day} tháng {month} năm {year}\r\n",
    "        Mặt trời mọc vào {hourrise} giờ {minrise} phút\r\n",
    "        Mặt trời lặn vào {hourset} giờ {minset} phút\r\n",
    "        Nhiệt độ trung bình là {temp} độ C\r\n",
    "        Áp suất không khí là {pressure} héc tơ Pascal\r\n",
    "        Độ ẩm là {humidity}%\r\n",
    "        Trời hôm nay quang mây. Dự báo mưa rải rác ở một số nơi.\"\"\".format(day = now.day,month = now.month, year= now.year, hourrise = sunrise.hour, minrise = sunrise.minute,\r\n",
    "                                                                           hourset = sunset.hour, minset = sunset.minute, \r\n",
    "                                                                           temp = current_temperature, pressure = current_pressure, humidity = current_humidity)\r\n",
    "        speak(content)\r\n",
    "        time.sleep(20)\r\n",
    "    else:\r\n",
    "        speak(\"Không tìm thấy địa chỉ của bạn\")"
   ],
   "outputs": [],
   "metadata": {}
  },
  {
   "cell_type": "markdown",
   "source": [
    "# 9. Chức năng phát nhạc trên Youtube\r\n",
    "- Gọi `get_text()` lấy thông tin tên bài hát, lưu vào **mysong**\r\n",
    "- Gọi While để tìm kết quả (bỏ qua kết nối yếu, ... )\r\n",
    "- Biến **url** lưu đường dẫn kế quả đầu tiên tìm thấy trên Youtube\r\n",
    "- Dùng hàm `webbrowser.open(url)` để mở đường dẫn đến video tìm được trên Google Chrome để phát nhạc."
   ],
   "metadata": {}
  },
  {
   "cell_type": "code",
   "execution_count": 48,
   "source": [
    "def play_song():\r\n",
    "    speak('Xin mời bạn chọn tên bài hát')\r\n",
    "    mysong = get_text()\r\n",
    "    while True:\r\n",
    "        result = YoutubeSearch(mysong, max_results=10).to_dict()\r\n",
    "        if result:\r\n",
    "            break\r\n",
    "    url = 'https://www.youtube.com/watch?v=' + result[0]['id']\r\n",
    "    webbrowser.open(url)\r\n",
    "    speak(\"Bài hát bạn yêu cầu đã được mở.\")"
   ],
   "outputs": [],
   "metadata": {}
  },
  {
   "cell_type": "markdown",
   "source": [
    "# 10. Chức năng thay đổi hình nền máy tính\n",
    "- Dùng **Unsplash** tại trang web `unsplash.com`\n",
    "- Đăng ký tài khoản để lấy api_key\n",
    "- Biến **url** lưu đường dẫn đến api của trang web\n",
    "- Mở url và lấy requests lưu vào biến **json_string**, ảnh sẽ được load, đọc và lưu vào biến **photo**\n",
    "- **photo** sẽ được lưu lại thành file ảnh trong máy\n",
    "- Dùng lệnh thay đổi hình nền của máy tính thông qua hàm `ctypes.windll.user32.SystemParametersInfoW()`"
   ],
   "metadata": {}
  },
  {
   "cell_type": "code",
   "execution_count": 49,
   "source": [
    "def change_wallpaper():\r\n",
    "    api_key = 'RF3LyUUIyogjCpQwlf-zjzCf1JdvRwb--SLV6iCzOxw'\r\n",
    "    url = 'https://api.unsplash.com/photos/random?client_id=' + \\\r\n",
    "        api_key  # pic from unspalsh.com\r\n",
    "    f = urllib2.urlopen(url)\r\n",
    "    json_string = f.read()\r\n",
    "    f.close()\r\n",
    "    parsed_json = json.loads(json_string)\r\n",
    "    photo = parsed_json['urls']['full']\r\n",
    "    # Location where we download the image to.\r\n",
    "    urllib2.urlretrieve(photo, \"C:/Users/Night Fury/Downloads/a.png\")\r\n",
    "    image=os.path.join(\"C:/Users/Night Fury/Downloads/a.png\")\r\n",
    "    ctypes.windll.user32.SystemParametersInfoW(20,0,image,3)\r\n",
    "    speak('Hình nền máy tính vừa được thay đổi')"
   ],
   "outputs": [],
   "metadata": {}
  },
  {
   "cell_type": "markdown",
   "source": [
    "# 11. Chức năng đọc báo ngày hôm nay\n",
    "- Chọn **Newsapi** tại `newsapi.org`, đăng ký tài khoản lấy apiKey\n",
    "- Lấy thông tin về chủ đề muốn đọc, dùng requests\n",
    "- Kết quả thu được kiểu json lưu vào biến **api_response**\n",
    "- Hiển thị 20 tin tức thu thập và mở đường dẫn đến 3 bài báo đầu tiên."
   ],
   "metadata": {}
  },
  {
   "cell_type": "code",
   "execution_count": 50,
   "source": [
    "def read_news():\r\n",
    "    speak(\"Bạn muốn đọc báo về gì?\")\r\n",
    "    \r\n",
    "    queue = get_text()\r\n",
    "    params = {\r\n",
    "        'apiKey': '30d02d187f7140faacf9ccd27a1441ad',\r\n",
    "        \"q\": queue,\r\n",
    "    }\r\n",
    "    api_result = requests.get('http://newsapi.org/v2/top-headlines?', params)\r\n",
    "    api_response = api_result.json()\r\n",
    "    print(\"Tin tức\")\r\n",
    "\r\n",
    "    for number, result in enumerate(api_response['articles'], start=1):\r\n",
    "        print(f\"\"\"Tin {number}:\\nTiêu đề: {result['title']}\\nTrích dẫn: {result['description']}\\nLink: {result['url']}\r\n",
    "    \"\"\")\r\n",
    "        if number <= 3:\r\n",
    "            webbrowser.open(result['url'])"
   ],
   "outputs": [],
   "metadata": {}
  },
  {
   "cell_type": "markdown",
   "source": [
    "# 12. Chức năng tìm định nghĩa trên từ điển Wikipedia\r\n",
    "- Dùng `get_text()` lấy thông tin về thứ muốn định nghĩa, lưu vào **text**\r\n",
    "- Gọi hàm `wikipedia.summary(text).split('\\n')` để lưu lại thành 1 list các đoạn nội dung mà wikipedia tìm được\r\n",
    "- Đọc đoạn định nghĩa đầu tiên\r\n",
    "- Máy sẽ hỏi bạn muốn nghe thêm hay không, nếu có máy sẽ đọc tiếp phần tiếp theo, nếu không thì sẽ dừng đọc"
   ],
   "metadata": {}
  },
  {
   "cell_type": "code",
   "execution_count": 51,
   "source": [
    "def tell_me_about():\r\n",
    "    try:\r\n",
    "        speak(\"Bạn muốn nghe về gì?\")\r\n",
    "        text = get_text()\r\n",
    "        contents = wikipedia.summary(text).split('\\n')\r\n",
    "        speak(\"Bạn vui lòng chờ một lát\")\r\n",
    "        speak(contents[0])\r\n",
    "        time.sleep(10)\r\n",
    "        for content in contents[1:]:\r\n",
    "            speak(\"Bạn muốn nghe thêm không\")\r\n",
    "            ans = get_text()\r\n",
    "            if \"có\" not in ans:\r\n",
    "                break    \r\n",
    "            speak(content)\r\n",
    "            time.sleep(10)\r\n",
    "\r\n",
    "        speak('Cảm ơn bạn đã lắng nghe!!!')\r\n",
    "    except:\r\n",
    "        speak(\"Vias không định nghĩa được thuật ngữ của bạn. Xin mời bạn nói lại\")"
   ],
   "outputs": [],
   "metadata": {}
  },
  {
   "cell_type": "markdown",
   "source": [
    "# 13. Chức năng giao tiếp, chào hỏi\n",
    "- Chức năng giao tiếp thông thường giữa người và máy."
   ],
   "metadata": {}
  },
  {
   "cell_type": "code",
   "execution_count": 52,
   "source": [
    "# Version 2.0 - AI ChatBot\r\n",
    "\r\n",
    "with open(\"intents.json\", encoding = 'utf8') as file:\r\n",
    "    data = json.load(file)\r\n",
    "\r\n",
    "try:\r\n",
    "    with open(\"data.pickle\", \"rb\") as f:\r\n",
    "        words, labels, training, output = pickle.load(f)\r\n",
    "except:\r\n",
    "    words = []\r\n",
    "    labels = []\r\n",
    "    docs_x = []\r\n",
    "    docs_y = []\r\n",
    "    for intent in data[\"intents\"]:\r\n",
    "        for pattern in intent[\"patterns\"]:\r\n",
    "            wrds = nltk.word_tokenize(pattern)\r\n",
    "            words.extend(wrds)\r\n",
    "            docs_x.append(wrds)\r\n",
    "            docs_y.append(intent[\"tag\"])\r\n",
    "\r\n",
    "            if intent[\"tag\"] not in labels:\r\n",
    "                labels.append(intent[\"tag\"])\r\n",
    "\r\n",
    "    words = [stemmer.stem(w.lower()) for w in words if w != \"?\"]\r\n",
    "    words = sorted(list(set(words)))\r\n",
    "\r\n",
    "    labels= sorted(list(set(labels)))\r\n",
    "\r\n",
    "    training = []\r\n",
    "    output = []\r\n",
    "\r\n",
    "    out_empty = [0 for _ in range(len(labels))]\r\n",
    "\r\n",
    "    for x, doc in enumerate(docs_x):\r\n",
    "        bag = []\r\n",
    "\r\n",
    "        wrds = [stemmer.stem(w) for w in doc]\r\n",
    "\r\n",
    "        for w in words:\r\n",
    "            if w in wrds:\r\n",
    "                bag.append(1)\r\n",
    "            else:\r\n",
    "                bag.append(0)\r\n",
    "\r\n",
    "        output_row = out_empty[:]\r\n",
    "        output_row[labels.index(docs_y[x])] = 1\r\n",
    "\r\n",
    "        training.append(bag)\r\n",
    "        output.append(output_row)\r\n",
    "\r\n",
    "    training = numpy.array(training)\r\n",
    "    output = numpy.array(output)\r\n",
    "\r\n",
    "    with open(\"data.pickle\", \"wb\") as f:\r\n",
    "        pickle.dump((words, labels, training, output), f)\r\n",
    "\r\n",
    "ops.reset_default_graph()\r\n",
    "\r\n",
    "net = tflearn.input_data(shape= [None, len(training[0])])\r\n",
    "net = tflearn.fully_connected(net, 8)\r\n",
    "net = tflearn.fully_connected(net, 8)\r\n",
    "net = tflearn.fully_connected(net, len(output[0]), activation = \"softmax\")\r\n",
    "net = tflearn.regression(net)\r\n",
    "\r\n",
    "model = tflearn.DNN(net)\r\n",
    "\r\n",
    "try:\r\n",
    "    model.load(\"model.tflearn\")\r\n",
    "except:\r\n",
    "    model.fit(training, output, n_epoch=1000, batch_size=8, show_metric=True)\r\n",
    "    model.save(\"model.tflearn\")\r\n"
   ],
   "outputs": [
    {
     "output_type": "stream",
     "name": "stdout",
     "text": [
      "INFO:tensorflow:Restoring parameters from d:\\Học-tập\\Năm-3-HK2\\Vietvias\\Version-2.0\\File-ipynb\\model.tflearn\n"
     ]
    }
   ],
   "metadata": {}
  },
  {
   "cell_type": "code",
   "execution_count": 53,
   "source": [
    "def bag_of_words(s, words):\r\n",
    "    bag = [0 for _ in range(len(words))]\r\n",
    "\r\n",
    "    s_words = nltk.word_tokenize(s)\r\n",
    "    s_words = [stemmer.stem(word.lower()) for word in s_words]\r\n",
    "\r\n",
    "    for se in s_words:\r\n",
    "         for i, w in enumerate(words):\r\n",
    "             if w == se:\r\n",
    "                 bag[i] = (1)\r\n",
    "    \r\n",
    "    return numpy.array(bag)\r\n",
    "\r\n",
    "def chat():\r\n",
    "    speak(\"Bắt đầu trò chuyện\")\r\n",
    "    while True:\r\n",
    "        inp = get_text()\r\n",
    "        if \"kết thúc\" in inp.lower():\r\n",
    "            break\r\n",
    "        results = model.predict([bag_of_words(inp, words)])[0] \r\n",
    "        results_index = numpy.argmax(results)\r\n",
    "        tag = labels[results_index]\r\n",
    "        if results[results_index] > 0.5:\r\n",
    "            for tg in data[\"intents\"]:\r\n",
    "                if tg['tag'] == tag:\r\n",
    "                    responses = tg['responses']\r\n",
    "\r\n",
    "            speak_other_language(random.choice(responses), \"en\")\r\n",
    "        else:\r\n",
    "            speak(\"Tôi không hiểu bạn nói gì\")"
   ],
   "outputs": [],
   "metadata": {}
  },
  {
   "cell_type": "markdown",
   "source": [
    "# 14. Chức năng hiển thị các khả năng của trợ lý ảo\n"
   ],
   "metadata": {}
  },
  {
   "cell_type": "code",
   "execution_count": 54,
   "source": [
    "def help_me():\r\n",
    "    speak(\"\"\"Vietvias có thể giúp bạn thực hiện các câu lệnh sau đây:\r\n",
    "    1. Chào hỏi tiếng Anh\r\n",
    "    2. Hiển thị giờ\r\n",
    "    3. Mở website, application\r\n",
    "    4. Tìm kiếm trên Google\r\n",
    "    5. Gửi email\r\n",
    "    6. Dự báo thời tiết\r\n",
    "    7. Nghe nhạc\r\n",
    "    8. Thay đổi hình nền máy tính\r\n",
    "    9. Đọc báo hôm nay\r\n",
    "    10. Kể bạn biết về thế giới \"\"\")"
   ],
   "outputs": [],
   "metadata": {}
  },
  {
   "cell_type": "markdown",
   "source": [
    "# 15. Kết hợp tất cả chức năng Trợ lý ảo Tiếng Việt \r\n",
    "- Dùng các cặp lệnh `if...elif...else` và `while True` để lặp vô hạn cho đến khi bạn muốn dừng\r\n",
    "- `get_text()` để lấy thông tin yêu cầu người dùng, lưu vào **text**, nếu **text** nhận 0 tức máy không nghe được, máy sẽ break\r\n",
    "- Nếu **text** nhận được giá trị, sẽ thực hiện các câu lệnh, khi nghe thấy \"dừng lại\" hoặc \"tạm biệt\" thì cũng sẽ dừng.\r\n"
   ],
   "metadata": {}
  },
  {
   "cell_type": "code",
   "execution_count": 55,
   "source": [
    "def assistant():\r\n",
    "    speak(\"\"\"Xin chào, Tôi là Vietvias - Trợ lý ảo thông minh\"\r\n",
    "    Bạn tên là gì?\"\"\")\r\n",
    "    name = get_text()\r\n",
    "    if name:\r\n",
    "        speak(\"Chào {}\".format(name))\r\n",
    "        speak(\"Bạn cần Vias giúp gì?\")\r\n",
    "        while True:\r\n",
    "            text = get_text()\r\n",
    "            if not text:\r\n",
    "                break\r\n",
    "            elif \"dừng\" in text or \"tạm biệt\" in text or \"kết thúc\" in text or \"ngủ thôi\" in text:\r\n",
    "                stop()\r\n",
    "                break\r\n",
    "            elif \"chức năng\" in text:\r\n",
    "                help_me()\r\n",
    "            elif \"chào hỏi\" in text:\r\n",
    "                chat()\r\n",
    "            elif \"hiện tại\" in text:\r\n",
    "                get_time(text)\r\n",
    "            elif \"tìm kiếm\" in text:\r\n",
    "                open_google_and_search(text)\r\n",
    "            elif \"mở\" in text:\r\n",
    "                if \".\" in text:\r\n",
    "                    open_website(text)\r\n",
    "                else:\r\n",
    "                    open_application(text)\r\n",
    "            elif \"email\" in text or \"mail\" in text or \"gmail\" in text:\r\n",
    "                send_email(text)\r\n",
    "            elif \"thời tiết\" in text:\r\n",
    "                current_weather()\r\n",
    "            elif \"nghe nhạc\" in text:\r\n",
    "                play_song()\r\n",
    "            elif \"hình nền\" in text:\r\n",
    "                change_wallpaper()\r\n",
    "            elif \"đọc báo\" in text:\r\n",
    "                read_news()\r\n",
    "            elif \"định nghĩa\" in text:\r\n",
    "                tell_me_about()\r\n",
    "            else:\r\n",
    "                speak(\"Bạn cần Vias giúp gì?\")"
   ],
   "outputs": [],
   "metadata": {}
  },
  {
   "cell_type": "markdown",
   "source": [
    "# DEMO "
   ],
   "metadata": {}
  },
  {
   "cell_type": "code",
   "execution_count": 56,
   "source": [
    "assistant()"
   ],
   "outputs": [
    {
     "output_type": "stream",
     "name": "stdout",
     "text": [
      "Vietvias: Xin chào, Tôi là Vietvias - Trợ lý ảo thông minh\"\n",
      "    Bạn tên là gì?\n",
      "Tôi: ...\n",
      "Vietvias: Vias không nghe rõ. Bạn nói lại được không!\n",
      "Tôi: alo alo\n",
      "Vietvias: Chào alo alo\n",
      "Vietvias: Bạn cần Vias giúp gì?\n",
      "Tôi: nhạc\n",
      "Vietvias: Bạn cần Vias giúp gì?\n",
      "Tôi: nghe nhạc\n",
      "Vietvias: Xin mời bạn chọn tên bài hát\n",
      "Tôi: ...\n",
      "Vietvias: Vias không nghe rõ. Bạn nói lại được không!\n",
      "Tôi: ...\n",
      "Vietvias: Vias không nghe rõ. Bạn nói lại được không!\n",
      "Tôi: ok\n",
      "Vietvias: Bài hát bạn yêu cầu đã được mở.\n"
     ]
    },
    {
     "output_type": "stream",
     "name": "stderr",
     "text": [
      "\n",
      "    Error 263 for command:\n",
      "        close voice29072021124248.mp3\n",
      "    The specified device is not open or is not recognized by MCI.\n",
      "Failed to close the file: voice29072021124248.mp3\n"
     ]
    },
    {
     "output_type": "stream",
     "name": "stdout",
     "text": [
      "Tôi: ...\n",
      "Vietvias: Vias không nghe rõ. Bạn nói lại được không!\n",
      "Tôi: tạm biệt\n",
      "Vietvias: Tạm biệt\n"
     ]
    }
   ],
   "metadata": {
    "scrolled": true
   }
  },
  {
   "cell_type": "code",
   "execution_count": null,
   "source": [],
   "outputs": [],
   "metadata": {}
  }
 ],
 "metadata": {
  "kernelspec": {
   "name": "python3",
   "display_name": "Python 3.9.6 64-bit"
  },
  "language_info": {
   "codemirror_mode": {
    "name": "ipython",
    "version": 3
   },
   "file_extension": ".py",
   "mimetype": "text/x-python",
   "name": "python",
   "nbconvert_exporter": "python",
   "pygments_lexer": "ipython3",
   "version": "3.9.6"
  },
  "metadata": {
   "interpreter": {
    "hash": "57baa5815c940fdaff4d14510622de9616cae602444507ba5d0b6727c008cbd6"
   }
  },
  "interpreter": {
   "hash": "e67a517eb31d247f5f6efa88d13cd07e252ff9f19b2fb372a3899ed1d8b7da39"
  }
 },
 "nbformat": 4,
 "nbformat_minor": 4
}