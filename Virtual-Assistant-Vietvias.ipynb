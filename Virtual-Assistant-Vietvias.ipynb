{
 "cells": [
  {
   "cell_type": "markdown",
   "metadata": {},
   "source": [
    "# 1. Import các thư viện cần thiết"
   ]
  },
  {
   "cell_type": "code",
   "execution_count": 1,
   "metadata": {},
   "outputs": [],
   "source": [
    "import os\n",
    "import playsound as ps\n",
    "import speech_recognition as sr\n",
    "import time\n",
    "import sys\n",
    "import ctypes\n",
    "import wikipedia\n",
    "import datetime\n",
    "import json\n",
    "import re\n",
    "import webbrowser\n",
    "import smtplib\n",
    "import requests\n",
    "import urllib\n",
    "import urllib.request as urllib2\n",
    "from selenium import webdriver\n",
    "from selenium.webdriver.common.keys import Keys\n",
    "from webdriver_manager.chrome import ChromeDriverManager\n",
    "from time import strftime\n",
    "from gtts import gTTS\n",
    "from youtube_search import YoutubeSearch"
   ]
  },
  {
   "cell_type": "markdown",
   "metadata": {},
   "source": [
    "# 2. Khai báo biến mặc định"
   ]
  },
  {
   "cell_type": "code",
   "execution_count": 2,
   "metadata": {},
   "outputs": [
    {
     "name": "stderr",
     "output_type": "stream",
     "text": [
      "\n",
      "\n",
      "====== WebDriver manager ======\n",
      "Current google-chrome version is 90.0.4430\n",
      "Get LATEST driver version for 90.0.4430\n",
      "Get LATEST driver version for 90.0.4430\n",
      "Trying to download new driver from https://chromedriver.storage.googleapis.com/90.0.4430.24/chromedriver_win32.zip\n",
      "Driver has been saved in cache [C:\\Users\\phamd\\.wdm\\drivers\\chromedriver\\win32\\90.0.4430.24]\n"
     ]
    }
   ],
   "source": [
    "wikipedia.set_lang('vi')\n",
    "language = 'vi'\n",
    "path = ChromeDriverManager().install()"
   ]
  },
  {
   "cell_type": "markdown",
   "metadata": {},
   "source": [
    "# 3. Chức năng chuyển văn bản thành âm thanh\n",
    "\n",
    "  -  Dùng `gTSS (google Text To Speech)` chuyển văn bản thành âm thanh theo tiếng Việt và lưu lại dưới dạng file **sound.mp3**\n",
    "  -  Sau đó dùng hàm `playsound.playsound()` để đọc file **sound.mp3** trên máy tính\n",
    "  -  Xóa file **sound.mp3** sau khi đọc xong để tránh lỗi trùng lắp file khi đọc nhiều văn bản"
   ]
  },
  {
   "cell_type": "code",
   "execution_count": 25,
   "metadata": {},
   "outputs": [],
   "source": [
    "def speak(text):\n",
    "    print(\"Vietvias: {}\".format(text))\n",
    "    tts = gTTS(text=text, lang='vi', slow=False)\n",
    "    tts.save(\"sound.mp3\")\n",
    "    ps.playsound(\"sound.mp3\")\n",
    "    os.remove(\"sound.mp3\")"
   ]
  },
  {
   "cell_type": "markdown",
   "metadata": {},
   "source": [
    "# 4. Chức năng chuyển âm thanh thành văn bản\n",
    "   Trong chức năng này, dùng 2 hàm là `get_audio()`, `stop()` và `get_text()`.\n",
    "   \n",
    "   \n",
    "### Trong hàm `get_audio()`\n",
    " -  Dùng thư viện speech_recognition có chức năng nhân diện giọng nói để chuyển âm thanh thành văn bản.\n",
    " -  Âm thanh được đọc vào sau đó được xử lý qua hàm `listen()` và lưu vào biến **audio**.\n",
    " -  Âm thanh sẽ được nhận dạng ở tiếng Việt bằng hàm `recognize_google()` và lưu kết quả vào biến **text**\n",
    " - Nếu **audio** không lỗi tức `recognize_google()` có thể nhận dạng được thì hàm sẽ trả về **text**. Ngược lại, nếu lỗi thì sẽ trả về **0**.\n",
    " \n",
    "  ### Trong hàm `stop()`\n",
    "   Đọc đoạn text \"Tạm biệt\" bằng cách dùng hàm `speak()` ở trên.\n",
    "   \n",
    "  ### Trong hàm `get_text()`\n",
    " - Máy tính sẽ nhận dạng âm thanh của người đọc tối đa 3 lần (bằng cách dùng for 3 lần), nếu text khác **0** thì `get_text()` trả vè `text.lower()`. \n",
    " - Ngược lại text = 0 thì trả về hàm `stop()` và `get_text()` trả về 0\n",
    " - `time.sleep(2)`: tạm dừng 2s tránh máy đọc các đoạn văn bản bị khớp nhau. \n"
   ]
  },
  {
   "cell_type": "code",
   "execution_count": 21,
   "metadata": {},
   "outputs": [],
   "source": [
    "def get_audio():\n",
    "    r = sr.Recognizer()\n",
    "    with sr.Microphone() as source:\n",
    "        print(\"Tôi: \", end='')\n",
    "        audio = r.listen(source)\n",
    "        try:\n",
    "            text = r.recognize_google(audio, language=\"vi-VN\")\n",
    "            print(text)\n",
    "            return text\n",
    "        except:\n",
    "            print(\"...\")\n",
    "            return 0\n",
    "        \n",
    "def stop():\n",
    "    speak(\"Tạm biệt\")\n",
    "    \n",
    "def get_text():\n",
    "    for i in range(3):\n",
    "        text = get_audio()\n",
    "        if text:\n",
    "            return text.lower()\n",
    "        elif i < 2:\n",
    "            speak(\"Vietvias không nghe rõ. Bạn nói lại được không!\")\n",
    "    time.sleep(2)\n",
    "    stop()\n",
    "    return 0"
   ]
  },
  {
   "cell_type": "markdown",
   "metadata": {},
   "source": [
    "# 5. Chức năng giao tiếp, chào hỏi\n",
    "- Chức năng giao tiếp thông thường giữa người và máy bằng hàm `hello(name)'.\n",
    "- Dùng biến **day_time** lưu giờ hiện tại sau đó."
   ]
  },
  {
   "cell_type": "code",
   "execution_count": 5,
   "metadata": {},
   "outputs": [],
   "source": [
    "def hello(name):\n",
    "    day_time = int(strftime('%H'))\n",
    "    if day_time < 12:\n",
    "        speak(\"Chào buổi sáng {}. Chúc bạn một ngày tốt lành.\".format(name))\n",
    "    elif 12 <= day_time < 18:\n",
    "        speak(\"Chào buổi chiều {}. Bạn đã dự định gì cho chiều nay chưa?\".format(name))\n",
    "    else:\n",
    "        speak(\"Chào buổi tối {}. Bạn đã ăn tối chưa nhỉ?\".format(name))"
   ]
  },
  {
   "cell_type": "markdown",
   "metadata": {},
   "source": [
    "# 6. Chức năng hiển thị thời gian\n",
    "- Dùng thư viện **`datetime`**, lưu vào biến **now**\n",
    "- Nếu trong biến **text** đầu vào có từ `\"giờ\"` thì sẽ đọc thời gian hiện tại trong ngày\n",
    "- Nếu trong biến **text** đầu vào có từ `\"ngày\"` thì sẽ đọc thời điểm hiện tại trong năm"
   ]
  },
  {
   "cell_type": "code",
   "execution_count": 6,
   "metadata": {},
   "outputs": [],
   "source": [
    "def get_time(text):\n",
    "    now = datetime.datetime.now()\n",
    "    if \"giờ\" in text:\n",
    "        speak('Bây giờ là %d giờ %d phút' % (now.hour, now.minute))\n",
    "    elif \"ngày\" in text:\n",
    "        speak(\"Hôm nay là ngày %d tháng %d năm %d\" %\n",
    "              (now.day, now.month, now.year))\n",
    "    else:\n",
    "        speak(\"Vietvias chưa hiểu ý của bạn. Bạn nói lại được không?\")"
   ]
  },
  {
   "cell_type": "markdown",
   "metadata": {},
   "source": [
    "# 7. Chức năng mở ứng dụng hệ thống, website và chức năng tìm kiếm từ khóa trên Google\n",
    "### Hàm `open_application()`\n",
    "- Dùng hàm `os.startfile()` để mở các file ứng dụng từ hệ thống\n",
    "\n",
    "### Hàm `open_website()`\n",
    "- Dùng hàm `re.search()` để tách \"domain\" sau từ \"mở\" trong biến **text** và ghép nó với phần tiền tố \"https://www.\" để tạo thành **url** của web.\n",
    "- Tiếp theo, dùng `webbroser.open(url)` để mở trang web theo url\n",
    "- Nếu domain được tìm thấy thì thực hiện mở website bằng `open_website()` và trả về **True**, ngược lại thì không thực hiện gì cả và trả về **False**.\n",
    "\n",
    "### Hàm `open_google_and_search()`\n",
    "- Tách từ khóa sau từ \"kiếm\" trong **text** bằng `split()` rồi lưu vào **search_for**\n",
    "- Gọi hàm `webdriver.Chrome(path)` để mở Google Chrome \n",
    "- Dùng hàm `driver.find_element_by_path()` để lấy thẻ **query** (viết tắt là q) rồi lưu vào biến que\n",
    "- Biến **que** thực hiện tiềm kiếm từ khóa **search_for** và trả trên Google Search. "
   ]
  },
  {
   "cell_type": "code",
   "execution_count": 7,
   "metadata": {},
   "outputs": [],
   "source": [
    "def open_application(text):\n",
    "    if \"google\" in text:\n",
    "        speak(\"Mở Google Chrome\")\n",
    "        os.startfile('C:\\Program Files (x86)\\Google\\Chrome\\Application\\chrome.exe')\n",
    "    elif \"word\" in text:\n",
    "        speak(\"Mở Microsoft Word\")\n",
    "        os.startfile('C:\\Program Files\\Microsoft Office\\\\root\\Office16\\\\WINWORD.EXE')\n",
    "    elif \"excel\" in text:\n",
    "        speak(\"Mở Microsoft Excel\")\n",
    "        os.startfile('C:\\Program Files\\Microsoft Office\\\\root\\Office16\\EXCEL.EXE')\n",
    "    else:\n",
    "        speak(\"Ứng dụng chưa được cài đặt. Bạn hãy thử lại!\")\n",
    "        \n",
    "def open_website(text):\n",
    "    reg_ex = re.search('mở (.+)', text)\n",
    "    if reg_ex:\n",
    "        domain = reg_ex.group(1)\n",
    "        url = 'https://www.' + domain\n",
    "        webbrowser.open(url)\n",
    "        speak(\"Trang web bạn yêu cầu đã được mở.\")\n",
    "        return True\n",
    "    else:\n",
    "        return False\n",
    "    \n",
    "def open_google_and_search(text):\n",
    "    search_for = text.split(\"kiếm\", 1)[1]\n",
    "    speak('Okay!')\n",
    "    driver = webdriver.Chrome(path)\n",
    "    driver.get(\"http://www.google.com\")\n",
    "    que = driver.find_element_by_xpath(\"//input[@name='q']\")\n",
    "    que.send_keys(str(search_for))\n",
    "    que.send_keys(Keys.RETURN)"
   ]
  },
  {
   "cell_type": "markdown",
   "metadata": {},
   "source": [
    "# 8. Chức năng gửi Email (chưa hoàn thiện)\n",
    "- Sử dụng thư viện **`smtplib`** để thực hiện gửi mail bằng stmp.\n",
    "- SMTP - Simple Mail Transfer Protocol: Giao thức truyền tải thư tín đơn giản\n",
    "- Lấy tên người nhận bằng hàm `get_text()`, lưu vào biến **recipient**\n",
    "    vd: tìm thấy tên \"thục\" trong tên người cần gửi thì thực hiện gửi Email.\n",
    "- Gọi `get_text()` để lấy nội dung cần gửi rồi lưu vào biến **content**\n",
    "- Tiếp tục mở đường truyền gửi Email băng `stmp` rồi đăng nhập tài khoản Gmail của mình\n",
    "- Kết nối thành công, sẽ gửi email từ địa chỉ đã đăng nhập đến địa chỉ người nhận (dinhthucf12@gmail.com) với nội dung **content** rồi đóng đường truyền"
   ]
  },
  {
   "cell_type": "code",
   "execution_count": 8,
   "metadata": {},
   "outputs": [],
   "source": [
    "def send_email(text):\n",
    "    speak('Bạn gửi email cho ai nhỉ')\n",
    "    recipient = get_text()\n",
    "    if 'thục' in recipient:\n",
    "        speak('Nội dung bạn muốn gửi là gì')\n",
    "        content = get_text()\n",
    "        mail = smtplib.SMTP('smtp.gmail.com', 587)\n",
    "        mail.ehlo()\n",
    "        mail.starttls()\n",
    "        mail.login('phamdinhthuc020100@gmail.com', 'dinhthuc123')\n",
    "        mail.sendmail('phamdinhthuc020100@gmail.com',\n",
    "                      'dinhthucf12@gmail.com', content.encode('utf-8'))\n",
    "        mail.close()\n",
    "        speak('Email của bạn vùa được gửi. Bạn check lại email nhé.')\n",
    "    else:\n",
    "        speak('Vietvias không hiểu bạn muốn gửi email cho ai. Bạn nói lại được không?')"
   ]
  },
  {
   "cell_type": "markdown",
   "metadata": {},
   "source": [
    "# 9. Chức năng xem dự báo thời tiết\n",
    "- Dùng **Open WeatherMap** tại trang web `openweathermap.org`\n",
    "- Dùng biến ow_url để lưu đường dẫn đến api của trang web\n",
    "- Gọi get_text() để lấy thông tin thành phố cần xem thông tin thời tiết lưu vào biến **city**. Nếu không nghe được tên thì sẽ bỏ qua\n",
    "- Kết nối với api của trang web (cần đăng ký tài khoản để lấy api_key)\n",
    "- Biến **call_url** sẽ lưu đường dẫn đầy đủ để truy vấn bao gồm thông tin tên thành phố **city**\n",
    "- Gọi `requests.get(call_url)` lấy thông tin truy vấn, lưu vào **response**\n",
    "- `response.json()` sẽ chuyển dữ liệu về json rồi lưu vào **data**\n",
    "- Nếu data[\"cod\"] không trả về 404 tức requests không lỗi, thực hiện chức năng\n",
    "- Từ **data** lấy các thông tin: **temperature**, **pressure**, **humidity**\n",
    "- Lưu các kết quả vào biến **content** và đọc kết quả\n",
    "- time.sleep(20): tạm dừng 20s để đọc **content**\n"
   ]
  },
  {
   "cell_type": "code",
   "execution_count": 9,
   "metadata": {},
   "outputs": [],
   "source": [
    "def current_weather():\n",
    "    speak(\"Bạn muốn xem thời tiết ở đâu?\")\n",
    "    ow_url = \"http://api.openweathermap.org/data/2.5/weather?\"\n",
    "    city = get_text()\n",
    "    if not city:\n",
    "        pass\n",
    "    api_key = \"fe8d8c65cf345889139d8e545f57819a\"\n",
    "    call_url = ow_url + \"appid=\" + api_key + \"&q=\" + city + \"&units=metric\"\n",
    "    response = requests.get(call_url)\n",
    "    data = response.json()\n",
    "    if data[\"cod\"] != \"404\":\n",
    "        city_res = data[\"main\"]\n",
    "        current_temperature = city_res[\"temp\"]\n",
    "        current_pressure = city_res[\"pressure\"]\n",
    "        current_humidity = city_res[\"humidity\"]\n",
    "        suntime = data[\"sys\"]\n",
    "        sunrise = datetime.datetime.fromtimestamp(suntime[\"sunrise\"])\n",
    "        sunset = datetime.datetime.fromtimestamp(suntime[\"sunset\"])\n",
    "        wthr = data[\"weather\"]\n",
    "        weather_description = wthr[0][\"description\"]\n",
    "        now = datetime.datetime.now()\n",
    "        content = \"\"\"\n",
    "        Hôm nay là ngày {day} tháng {month} năm {year}\n",
    "        Mặt trời mọc vào {hourrise} giờ {minrise} phút\n",
    "        Mặt trời lặn vào {hourset} giờ {minset} phút\n",
    "        Nhiệt độ trung bình là {temp} độ C\n",
    "        Áp suất không khí là {pressure} héc tơ Pascal\n",
    "        Độ ẩm là {humidity}%\n",
    "        Trời hôm nay quang mây. Dự báo mưa rải rác ở một số nơi.\"\"\".format(day = now.day,month = now.month, year= now.year, hourrise = sunrise.hour, minrise = sunrise.minute,\n",
    "                                                                           hourset = sunset.hour, minset = sunset.minute, \n",
    "                                                                           temp = current_temperature, pressure = current_pressure, humidity = current_humidity)\n",
    "        speak(content)\n",
    "        time.sleep(20)\n",
    "    else:\n",
    "        speak(\"Không tìm thấy địa chỉ của bạn\")"
   ]
  },
  {
   "cell_type": "markdown",
   "metadata": {},
   "source": [
    "# Chức năng phát nhạc trên Youtube\n",
    "- Gọi `get_text()` lấy thông tin tên bài hát, lưu vào **mysong**\n",
    "- Gọi While để tìm kết quả (bỏ qua kết nối yếu, ... )\n",
    "- Biến **url** lưu đường dẫn kế quả đầu tiên tìm thấy trên Youtube\n",
    "- Dùng hàm `webbrowser.open(url)` để mở đường dẫn đến video tìm được trên Google Chrome để phát nhạc."
   ]
  },
  {
   "cell_type": "code",
   "execution_count": 35,
   "metadata": {},
   "outputs": [],
   "source": [
    "def play_song():\n",
    "    speak('Xin mời bạn chọn tên bài hát')\n",
    "    mysong = get_text()\n",
    "    while True:\n",
    "        result = YoutubeSearch(mysong, max_results=10).to_dict()\n",
    "        if result:\n",
    "            break\n",
    "    url = 'https://www.youtube.com/watch?v=' + result[0]['id']\n",
    "    webbrowser.open(url)\n",
    "    speak(\"Bài hát bạn yêu cầu đã được mở.\")"
   ]
  },
  {
   "cell_type": "markdown",
   "metadata": {},
   "source": [
    "# 11. Chức năng thay đổi hình nền máy tính\n",
    "- Dùng **Unsplash** tại trang web `unsplash.com`\n",
    "- Đăng ký tài khoản để lấy api_key\n",
    "- Biến **url** lưu đường dẫn đến api của trang web\n",
    "- Mở url và lấy requests lưu vào biến **json_string**, ảnh sẽ được load, đọc và lưu vào biến **photo**\n",
    "- **photo** sẽ được lưu lại thành file ảnh trong máy\n",
    "- Dùng lệnh thay đổi hình nền của máy tính thông qua hàm `ctypes.windll.user32.SystemParametersInfoW()`"
   ]
  },
  {
   "cell_type": "code",
   "execution_count": 11,
   "metadata": {},
   "outputs": [],
   "source": [
    "def change_wallpaper():\n",
    "    api_key = 'RF3LyUUIyogjCpQwlf-zjzCf1JdvRwb--SLV6iCzOxw'\n",
    "    url = 'https://api.unsplash.com/photos/random?client_id=' + \\\n",
    "        api_key  # pic from unspalsh.com\n",
    "    f = urllib2.urlopen(url)\n",
    "    json_string = f.read()\n",
    "    f.close()\n",
    "    parsed_json = json.loads(json_string)\n",
    "    photo = parsed_json['urls']['full']\n",
    "    # Location where we download the image to.\n",
    "    urllib2.urlretrieve(photo, \"C:/Users/Night Fury/Downloads/a.png\")\n",
    "    image=os.path.join(\"C:/Users/Night Fury/Downloads/a.png\")\n",
    "    ctypes.windll.user32.SystemParametersInfoW(20,0,image,3)\n",
    "    speak('Hình nền máy tính vừa được thay đổi')"
   ]
  },
  {
   "cell_type": "markdown",
   "metadata": {},
   "source": [
    "# 12. Chức năng đọc báo ngày hôm nay\n",
    "- Chọn **Newsapi** tại `newsapi.org`, đăng ký tài khoản lấy apiKey\n",
    "- Lấy thông tin về chủ đề muốn đọc, dùng requests\n",
    "- Kết quả thu được kiểu json lưu vào biến **api_response**\n",
    "- Hiển thị 20 tin tức thu thập và mở đường dẫn đến 3 bài báo đầu tiên."
   ]
  },
  {
   "cell_type": "code",
   "execution_count": 12,
   "metadata": {},
   "outputs": [],
   "source": [
    "def read_news():\n",
    "    speak(\"Bạn muốn đọc báo về gì?\")\n",
    "    \n",
    "    queue = get_text()\n",
    "    params = {\n",
    "        'apiKey': '30d02d187f7140faacf9ccd27a1441ad',\n",
    "        \"q\": queue,\n",
    "    }\n",
    "    api_result = requests.get('http://newsapi.org/v2/top-headlines?', params)\n",
    "    api_response = api_result.json()\n",
    "    print(\"Tin tức\")\n",
    "\n",
    "    for number, result in enumerate(api_response['articles'], start=1):\n",
    "        print(f\"\"\"Tin {number}:\\nTiêu đề: {result['title']}\\nTrích dẫn: {result['description']}\\nLink: {result['url']}\n",
    "    \"\"\")\n",
    "        if number <= 3:\n",
    "            webbrowser.open(result['url'])"
   ]
  },
  {
   "cell_type": "markdown",
   "metadata": {},
   "source": [
    "# 13. Chức năng tìm định nghĩa trên từ điển Wikipedia\n",
    "- Dùng `get_text()` lấy thông tin về thứ muốn định nghĩa, lưu vào **text**\n",
    "- Gọi hàm `wikipedia.summary(text).split('\\n')` để lưu lại thành 1 list các đoạn nội dung mà wikipedia tìm được\n",
    "- Đọc đoạn định nghĩa đầu tiên\n",
    "- Máy sẽ hỏi bạn muốn nghe thêm hay không, nếu có máy sẽ đọc tiếp phần tiếp theo, nếu không thì sẽ dừng đọc"
   ]
  },
  {
   "cell_type": "code",
   "execution_count": 32,
   "metadata": {},
   "outputs": [],
   "source": [
    "def tell_me_about():\n",
    "    try:\n",
    "        speak(\"Bạn muốn nghe về gì?\")\n",
    "        text = get_text()\n",
    "        contents = wikipedia.summary(text).split('\\n')\n",
    "        speak(\"Bạn vui lòng chờ một lát\")\n",
    "        speak(contents[0])\n",
    "        time.sleep(10)\n",
    "        for content in contents[1:]:\n",
    "            speak(\"Bạn muốn nghe thêm không\")\n",
    "            ans = get_text()\n",
    "            if \"có\" not in ans:\n",
    "                break    \n",
    "            speak(content)\n",
    "            time.sleep(10)\n",
    "\n",
    "        speak('Cảm ơn bạn đã lắng nghe!!!')\n",
    "    except:\n",
    "        speak(\"Vietvias không định nghĩa được thuật ngữ của bạn. Xin mời bạn nói lại\")"
   ]
  },
  {
   "cell_type": "markdown",
   "metadata": {},
   "source": [
    "# 14. Chức năng hiển thị các khả năng của trợ lý ảo\n"
   ]
  },
  {
   "cell_type": "code",
   "execution_count": 14,
   "metadata": {},
   "outputs": [],
   "source": [
    "def help_me():\n",
    "    speak(\"\"\"Vietvias có thể giúp bạn thực hiện các câu lệnh sau đây:\n",
    "    1. Chào hỏi\n",
    "    2. Hiển thị giờ\n",
    "    3. Mở website, application\n",
    "    4. Tìm kiếm trên Google\n",
    "    5. Gửi email\n",
    "    6. Dự báo thời tiết\n",
    "    7. Mở video nhạc\n",
    "    8. Thay đổi hình nền máy tính\n",
    "    9. Đọc báo hôm nay\n",
    "    10. Kể bạn biết về thế giới \"\"\")"
   ]
  },
  {
   "cell_type": "markdown",
   "metadata": {},
   "source": [
    "# 15. Kết hợp tất cả chức năng Trợ lý ảo Tiếng Việt \n",
    "- Dùng các cặp lệnh `if...elif...else` và `while True` để lặp vô hạn cho đến khi bạn muốn dừng\n",
    "- `get_text()` để lấy thông tin yêu cầu người dùng, lưu vào **text**, nếu **text** nhận 0 tức máy không nghe được, máy sẽ break\n",
    "- Nếu **text** nhận được giá trị, sẽ thực hiện các câu lệnh, khi nghe thấy \"dừng lại\" hoặc \"tạm biệt\" thì cũng sẽ dừng.\n"
   ]
  },
  {
   "cell_type": "code",
   "execution_count": 30,
   "metadata": {},
   "outputs": [],
   "source": [
    "def assistant():\n",
    "    speak(\"Xin chào, bạn tên là gì?\")\n",
    "    name = get_text()\n",
    "    if name:\n",
    "        speak(\"Chào {}\".format(name))\n",
    "        speak(\"Vietvias có thể giúp gì?\")\n",
    "        while True:\n",
    "            text = get_text()\n",
    "            if not text:\n",
    "                break\n",
    "            elif \"dừng\" in text or \"tạm biệt\" in text or \"chào robot\" in text or \"ngủ thôi\" in text:\n",
    "                stop()\n",
    "                break\n",
    "            elif \"chức năng\" in text:\n",
    "                help_me()\n",
    "            elif \"chào hỏi\" in text:\n",
    "                hello(name)\n",
    "            elif \"hiện tại\" in text:\n",
    "                get_time(text)\n",
    "            elif \"mở\" in text:\n",
    "                if 'mở google và tìm kiếm' in text:\n",
    "                    open_google_and_search(text)\n",
    "                elif \".\" in text:\n",
    "                    open_website(text)\n",
    "                else:\n",
    "                    open_application(text)\n",
    "            elif \"email\" in text or \"mail\" in text or \"gmail\" in text:\n",
    "                send_email(text)\n",
    "            elif \"thời tiết\" in text:\n",
    "                current_weather()\n",
    "            elif \"chơi nhạc\" in text:\n",
    "                play_song()\n",
    "            elif \"hình nền\" in text:\n",
    "                change_wallpaper()\n",
    "            elif \"đọc báo\" in text:\n",
    "                read_news()\n",
    "            elif \"định nghĩa\" in text:\n",
    "                tell_me_about()\n",
    "            else:\n",
    "                speak(\"Bạn cần Vietvias giúp gì?\")"
   ]
  },
  {
   "cell_type": "markdown",
   "metadata": {},
   "source": [
    "# DEMO "
   ]
  },
  {
   "cell_type": "code",
   "execution_count": 36,
   "metadata": {
    "scrolled": true
   },
   "outputs": [
    {
     "name": "stdout",
     "output_type": "stream",
     "text": [
      "Vietvias: Xin chào, bạn tên là gì?\n",
      "Tôi: Ronaldo\n",
      "Vietvias: Chào ronaldo\n",
      "Vietvias: Vietvias có thể giúp gì?\n",
      "Tôi: chơi nhạc\n",
      "Vietvias: Xin mời bạn chọn tên bài hát\n",
      "Tôi: ...\n",
      "Vietvias: Vietvias không nghe rõ. Bạn nói lại được không!\n",
      "Tôi: ok\n",
      "Vietvias: Bài hát bạn yêu cầu đã được mở.\n",
      "Tôi: làm đẹp\n",
      "Vietvias: Bạn cần Vietvias giúp gì?\n",
      "Tôi: tạm biệt\n",
      "Vietvias: Tạm biệt\n"
     ]
    }
   ],
   "source": [
    "assistant()"
   ]
  }
 ],
 "metadata": {
  "kernelspec": {
   "display_name": "Python 3",
   "language": "python",
   "name": "python3"
  },
  "language_info": {
   "codemirror_mode": {
    "name": "ipython",
    "version": 3
   },
   "file_extension": ".py",
   "mimetype": "text/x-python",
   "name": "python",
   "nbconvert_exporter": "python",
   "pygments_lexer": "ipython3",
   "version": "3.8.5"
  }
 },
 "nbformat": 4,
 "nbformat_minor": 4
}
